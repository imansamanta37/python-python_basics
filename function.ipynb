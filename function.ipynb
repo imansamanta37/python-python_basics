{
  "nbformat": 4,
  "nbformat_minor": 0,
  "metadata": {
    "colab": {
      "provenance": []
    },
    "kernelspec": {
      "name": "python3",
      "display_name": "Python 3"
    },
    "language_info": {
      "name": "python"
    }
  },
  "cells": [
    {
      "cell_type": "code",
      "execution_count": null,
      "metadata": {
        "colab": {
          "base_uri": "https://localhost:8080/",
          "height": 36
        },
        "id": "NLT8ASp8lYJ9",
        "outputId": "bd1765f4-6d34-46b0-98b2-224e198acda3"
      },
      "outputs": [
        {
          "output_type": "execute_result",
          "data": {
            "text/plain": [
              "'even'"
            ],
            "application/vnd.google.colaboratory.intrinsic+json": {
              "type": "string"
            }
          },
          "metadata": {},
          "execution_count": 6
        }
      ],
      "source": [
        "def is_even(i):\n",
        "  \"\"\"\n",
        "  this function returns odd/even\n",
        "  \"\"\"\n",
        "  if type(i)== int:\n",
        "\n",
        "     if i%2 == 0:\n",
        "       return \"even\"\n",
        "     else:\n",
        "       return \"odd\"\n",
        "  else:\n",
        "    print(\"not int data  type given\")\n",
        "is_even(8)"
      ]
    },
    {
      "cell_type": "code",
      "source": [
        "def power(a=1,b=1):\n",
        "  print(a**b)"
      ],
      "metadata": {
        "id": "-av4szpeqXNi"
      },
      "execution_count": null,
      "outputs": []
    },
    {
      "cell_type": "code",
      "source": [
        "power()"
      ],
      "metadata": {
        "colab": {
          "base_uri": "https://localhost:8080/"
        },
        "id": "ufF-Hvkzsn31",
        "outputId": "6b228318-516e-43e0-f8ca-e1823201dce3"
      },
      "execution_count": null,
      "outputs": [
        {
          "output_type": "stream",
          "name": "stdout",
          "text": [
            "1\n"
          ]
        }
      ]
    },
    {
      "cell_type": "code",
      "source": [
        "#keyword argument\n",
        "power(b=3,a=2)"
      ],
      "metadata": {
        "colab": {
          "base_uri": "https://localhost:8080/"
        },
        "id": "Npxj00O2s8lb",
        "outputId": "26b6d9f0-12c7-453b-c152-0c699a281194"
      },
      "execution_count": null,
      "outputs": [
        {
          "output_type": "stream",
          "name": "stdout",
          "text": [
            "8\n"
          ]
        }
      ]
    },
    {
      "cell_type": "code",
      "source": [
        "def multiply(*args):\n",
        "  products = 1\n",
        "  for i in args:\n",
        "    products=products*i\n",
        "  return products\n",
        "multiply(1,2,3,4,5,6,7)"
      ],
      "metadata": {
        "colab": {
          "base_uri": "https://localhost:8080/"
        },
        "id": "qhfJkyeYuhPw",
        "outputId": "8c4841b6-4fb6-40a2-f570-55c3f0668f80"
      },
      "execution_count": null,
      "outputs": [
        {
          "output_type": "execute_result",
          "data": {
            "text/plain": [
              "5040"
            ]
          },
          "metadata": {},
          "execution_count": 15
        }
      ]
    },
    {
      "cell_type": "code",
      "source": [
        "print(is_even.__doc__)"
      ],
      "metadata": {
        "colab": {
          "base_uri": "https://localhost:8080/"
        },
        "id": "rTUzfgc94qvz",
        "outputId": "d251befb-9491-4500-8d52-c6f8a36599a5"
      },
      "execution_count": null,
      "outputs": [
        {
          "output_type": "stream",
          "name": "stdout",
          "text": [
            "\n",
            "  this function returns odd/even\n",
            "  \n"
          ]
        }
      ]
    },
    {
      "cell_type": "code",
      "source": [
        "def display(**kwargs):\n",
        "  for (key,value) in kwargs.items():\n",
        "    print(key,\"==>\",value)\n",
        "display(india=\"Delhi\",pakistan=\"lahor\")"
      ],
      "metadata": {
        "colab": {
          "base_uri": "https://localhost:8080/"
        },
        "id": "TIR07q5F5y-8",
        "outputId": "9763844a-8a2e-485f-f7a9-b980afba5dae"
      },
      "execution_count": null,
      "outputs": [
        {
          "output_type": "stream",
          "name": "stdout",
          "text": [
            "india ==> Delhi\n",
            "pakistan ==> lahor\n"
          ]
        }
      ]
    },
    {
      "cell_type": "code",
      "source": [
        "def f(y):\n",
        "  x = 1\n",
        "  x +=1\n",
        "  print(x)\n",
        "x = 5\n",
        "f(x)\n",
        "print(x)"
      ],
      "metadata": {
        "colab": {
          "base_uri": "https://localhost:8080/"
        },
        "id": "N2iZp-1cB2L_",
        "outputId": "47756e0e-0734-4092-8436-ce62a941e662"
      },
      "execution_count": null,
      "outputs": [
        {
          "output_type": "stream",
          "name": "stdout",
          "text": [
            "2\n",
            "5\n"
          ]
        }
      ]
    },
    {
      "cell_type": "code",
      "source": [
        "def f():\n",
        "  def g():\n",
        "    print(\"inside function g\")\n",
        "  g()\n",
        "  print(\"inside function f\")\n",
        "f()"
      ],
      "metadata": {
        "colab": {
          "base_uri": "https://localhost:8080/"
        },
        "id": "WZX6ruNNJPBK",
        "outputId": "c1d27dfe-fad5-4b04-f63f-3d535768baf7"
      },
      "execution_count": null,
      "outputs": [
        {
          "output_type": "stream",
          "name": "stdout",
          "text": [
            "inside function g\n",
            "inside function f\n"
          ]
        }
      ]
    },
    {
      "cell_type": "code",
      "source": [
        "def square(num):\n",
        "  return num**2\n",
        "print(type(square))"
      ],
      "metadata": {
        "colab": {
          "base_uri": "https://localhost:8080/"
        },
        "id": "zHex4ytDPHeN",
        "outputId": "15ab0873-700a-4df3-c2f0-0c583e11313b"
      },
      "execution_count": null,
      "outputs": [
        {
          "output_type": "stream",
          "name": "stdout",
          "text": [
            "<class 'function'>\n"
          ]
        }
      ]
    },
    {
      "cell_type": "code",
      "source": [
        "id(square)"
      ],
      "metadata": {
        "colab": {
          "base_uri": "https://localhost:8080/"
        },
        "id": "Wz6ZzbZXXf5r",
        "outputId": "315827c8-7bcb-48e2-8fc0-55ca7c74bcaf"
      },
      "execution_count": null,
      "outputs": [
        {
          "output_type": "execute_result",
          "data": {
            "text/plain": [
              "139282441179744"
            ]
          },
          "metadata": {},
          "execution_count": 27
        }
      ]
    },
    {
      "cell_type": "code",
      "source": [
        "x = square\n",
        "id(x)"
      ],
      "metadata": {
        "colab": {
          "base_uri": "https://localhost:8080/"
        },
        "id": "jD4Fhx7NXsX9",
        "outputId": "b703dc35-b9c6-4de9-c61f-9b62a4529b0a"
      },
      "execution_count": null,
      "outputs": [
        {
          "output_type": "execute_result",
          "data": {
            "text/plain": [
              "139282441179744"
            ]
          },
          "metadata": {},
          "execution_count": 28
        }
      ]
    },
    {
      "cell_type": "code",
      "source": [
        "square(3)"
      ],
      "metadata": {
        "colab": {
          "base_uri": "https://localhost:8080/"
        },
        "id": "2X_CuJV7YKA5",
        "outputId": "8fc7ff5f-0617-42d8-bafe-fec5453d4fac"
      },
      "execution_count": null,
      "outputs": [
        {
          "output_type": "execute_result",
          "data": {
            "text/plain": [
              "9"
            ]
          },
          "metadata": {},
          "execution_count": 29
        }
      ]
    },
    {
      "cell_type": "code",
      "source": [
        "#del square"
      ],
      "metadata": {
        "id": "uHICSwgxYf8Q"
      },
      "execution_count": null,
      "outputs": []
    },
    {
      "cell_type": "code",
      "source": [
        "square(4)"
      ],
      "metadata": {
        "colab": {
          "base_uri": "https://localhost:8080/"
        },
        "id": "g4KMH6lmY4CI",
        "outputId": "3159b82c-0152-4b56-d9bb-5eb9b645a69a"
      },
      "execution_count": null,
      "outputs": [
        {
          "output_type": "execute_result",
          "data": {
            "text/plain": [
              "16"
            ]
          },
          "metadata": {},
          "execution_count": 36
        }
      ]
    },
    {
      "cell_type": "code",
      "source": [
        "L = [1,2,3,4,square]\n",
        "print(L)"
      ],
      "metadata": {
        "colab": {
          "base_uri": "https://localhost:8080/"
        },
        "id": "uSp9jlBbY_bM",
        "outputId": "b5bcdaaf-0048-4ea5-aca2-4df6fa9821b6"
      },
      "execution_count": null,
      "outputs": [
        {
          "output_type": "stream",
          "name": "stdout",
          "text": [
            "[1, 2, 3, 4, <function square at 0x7ead3874f100>]\n"
          ]
        }
      ]
    },
    {
      "cell_type": "code",
      "source": [
        "L[-1](4)"
      ],
      "metadata": {
        "colab": {
          "base_uri": "https://localhost:8080/"
        },
        "id": "i-H2lvMCZECb",
        "outputId": "5d3788c2-0529-4047-da7c-845fbd97421a"
      },
      "execution_count": null,
      "outputs": [
        {
          "output_type": "execute_result",
          "data": {
            "text/plain": [
              "16"
            ]
          },
          "metadata": {},
          "execution_count": 38
        }
      ]
    },
    {
      "cell_type": "code",
      "source": [
        "a = lambda x : x**2\n",
        "a(2)"
      ],
      "metadata": {
        "colab": {
          "base_uri": "https://localhost:8080/"
        },
        "id": "Ly5ny3SyZIxl",
        "outputId": "5842d2a9-027f-41a6-c17a-edf5f5453226"
      },
      "execution_count": null,
      "outputs": [
        {
          "output_type": "execute_result",
          "data": {
            "text/plain": [
              "4"
            ]
          },
          "metadata": {},
          "execution_count": 39
        }
      ]
    },
    {
      "cell_type": "code",
      "source": [
        "d = lambda x :'a' in x\n",
        "print(d('nindy'))"
      ],
      "metadata": {
        "colab": {
          "base_uri": "https://localhost:8080/"
        },
        "id": "EBrzslBJhGtu",
        "outputId": "240b15df-caf3-4f9c-90ad-f1e16dfeda34"
      },
      "execution_count": null,
      "outputs": [
        {
          "output_type": "stream",
          "name": "stdout",
          "text": [
            "False\n"
          ]
        }
      ]
    },
    {
      "cell_type": "code",
      "source": [
        "h = lambda x : 'even' if x%2==0 else 'odd'\n",
        "h(5)"
      ],
      "metadata": {
        "colab": {
          "base_uri": "https://localhost:8080/",
          "height": 36
        },
        "id": "xbUjDPBIh8p2",
        "outputId": "b929019b-87a4-4293-ca1d-21f9bcbf7469"
      },
      "execution_count": null,
      "outputs": [
        {
          "output_type": "execute_result",
          "data": {
            "text/plain": [
              "'odd'"
            ],
            "application/vnd.google.colaboratory.intrinsic+json": {
              "type": "string"
            }
          },
          "metadata": {},
          "execution_count": 47
        }
      ]
    },
    {
      "cell_type": "code",
      "source": [
        "def square(x):\n",
        "  return x**2\n",
        "def transform(f,L):\n",
        "  output = []\n",
        "  for i in L:\n",
        "    output.append(f(i))\n",
        "  print(output)"
      ],
      "metadata": {
        "id": "NdFxigv_jlh4"
      },
      "execution_count": null,
      "outputs": []
    },
    {
      "cell_type": "code",
      "source": [
        "transform(square,[1,2,3,4])"
      ],
      "metadata": {
        "colab": {
          "base_uri": "https://localhost:8080/"
        },
        "id": "Z-pmyYQsuHJK",
        "outputId": "77e9a43a-c8a4-4b80-c32f-4bfc5d2f06a7"
      },
      "execution_count": null,
      "outputs": [
        {
          "output_type": "stream",
          "name": "stdout",
          "text": [
            "[1, 4, 9, 16]\n"
          ]
        }
      ]
    },
    {
      "cell_type": "code",
      "source": [
        "list(map(lambda x:x**2,[1,2,3,4]))"
      ],
      "metadata": {
        "colab": {
          "base_uri": "https://localhost:8080/"
        },
        "id": "EMQk-w8Lv8JS",
        "outputId": "381585bb-588d-4d78-a474-9c79fd0532a6"
      },
      "execution_count": null,
      "outputs": [
        {
          "output_type": "execute_result",
          "data": {
            "text/plain": [
              "[1, 4, 9, 16]"
            ]
          },
          "metadata": {},
          "execution_count": 50
        }
      ]
    },
    {
      "cell_type": "code",
      "source": [
        "list(map(lambda x:'even' if x%2==0 else 'odd',[1,2,3,4,5]))"
      ],
      "metadata": {
        "colab": {
          "base_uri": "https://localhost:8080/"
        },
        "id": "WkbkCAxewCYC",
        "outputId": "fba9d4d3-a3ac-4f2a-8079-51daa294d830"
      },
      "execution_count": null,
      "outputs": [
        {
          "output_type": "execute_result",
          "data": {
            "text/plain": [
              "['odd', 'even', 'odd', 'even', 'odd']"
            ]
          },
          "metadata": {},
          "execution_count": 51
        }
      ]
    },
    {
      "cell_type": "code",
      "source": [
        "s={'user':\"iman\",'uid':\"37\"}\n",
        "s['user']"
      ],
      "metadata": {
        "colab": {
          "base_uri": "https://localhost:8080/",
          "height": 36
        },
        "id": "gutL7KuawYvk",
        "outputId": "f90014b5-7251-45a0-8ea2-91a7e188087a"
      },
      "execution_count": null,
      "outputs": [
        {
          "output_type": "execute_result",
          "data": {
            "text/plain": [
              "'iman'"
            ],
            "application/vnd.google.colaboratory.intrinsic+json": {
              "type": "string"
            }
          },
          "metadata": {},
          "execution_count": 53
        }
      ]
    },
    {
      "cell_type": "code",
      "source": [
        "l = [1,6,7,2,4,8]\n",
        "list(filter(lambda x:x>5,l))"
      ],
      "metadata": {
        "colab": {
          "base_uri": "https://localhost:8080/"
        },
        "id": "lXA-3p4FxE-e",
        "outputId": "fce71d9a-2e3d-4a5e-d0ef-b4790c11bec7"
      },
      "execution_count": null,
      "outputs": [
        {
          "output_type": "execute_result",
          "data": {
            "text/plain": [
              "[6, 7, 8]"
            ]
          },
          "metadata": {},
          "execution_count": 55
        }
      ]
    },
    {
      "cell_type": "code",
      "source": [
        "l = ['apple','banna','guava']\n",
        "list(filter(lambda x:x.startswith('a'),l))"
      ],
      "metadata": {
        "colab": {
          "base_uri": "https://localhost:8080/"
        },
        "id": "JBURtvVcxN_o",
        "outputId": "eecaf794-469a-4902-bb68-775d680323a2"
      },
      "execution_count": null,
      "outputs": [
        {
          "output_type": "execute_result",
          "data": {
            "text/plain": [
              "['apple']"
            ]
          },
          "metadata": {},
          "execution_count": 57
        }
      ]
    },
    {
      "cell_type": "code",
      "source": [
        "import functools\n",
        "l=[1,2,3,4,5]\n",
        "functools.reduce(lambda x,y:x+y,l)"
      ],
      "metadata": {
        "colab": {
          "base_uri": "https://localhost:8080/"
        },
        "id": "Vp-pch2hy_r7",
        "outputId": "fbd242f3-95a0-45ed-e856-a0386cdfc7e6"
      },
      "execution_count": 61,
      "outputs": [
        {
          "output_type": "execute_result",
          "data": {
            "text/plain": [
              "15"
            ]
          },
          "metadata": {},
          "execution_count": 61
        }
      ]
    }
  ]
}